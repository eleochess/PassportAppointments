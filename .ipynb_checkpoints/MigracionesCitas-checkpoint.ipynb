{
 "cells": [
  {
   "cell_type": "code",
   "execution_count": 1,
   "metadata": {},
   "outputs": [],
   "source": [
    "import requests\n",
    "import json\n",
    "from lxml import html\n",
    "from tabulate import tabulate"
   ]
  },
  {
   "cell_type": "code",
   "execution_count": 2,
   "metadata": {},
   "outputs": [],
   "source": [
    "url = \"https://sel.migraciones.gob.pe/web-citas-pasaporte/Citas-en-Linea-IngresoDatos\"\n",
    "res = requests.get(url)\n",
    "tree = html.fromstring(res.content)"
   ]
  },
  {
   "cell_type": "code",
   "execution_count": 3,
   "metadata": {},
   "outputs": [],
   "source": [
    "tree_tbcitas = tree.xpath('//span[@id=\"ctl00_bodypage_lblTablaFechasDisponibles\"]/table/tbody/tr/td')"
   ]
  },
  {
   "cell_type": "code",
   "execution_count": 4,
   "metadata": {},
   "outputs": [],
   "source": [
    "arr = []\n",
    "sede = ''\n",
    "counttd = 0\n",
    "\n",
    "for td in tree_tbcitas:\n",
    "    counttd = counttd + 1\n",
    "    if counttd % 2 == 0:\n",
    "        arr.append({'Region': sede.split('-')[0].strip(), 'Sede': sede.split('-')[1].strip(), 'Fecha': td.text.strip()})\n",
    "    else:\n",
    "        sede = td.text.strip()"
   ]
  },
  {
   "cell_type": "code",
   "execution_count": 5,
   "metadata": {},
   "outputs": [
    {
     "name": "stdout",
     "output_type": "stream",
     "text": [
      "Region         Sede              Fecha\n",
      "-------------  ----------------  ----------\n",
      "Áncash         Chimbote          23/11/2021\n",
      "Arequipa       Arequipa          17/11/2021\n",
      "Cajamarca      MAC Cajamarca     20/10/2021\n",
      "Cusco          Cusco             25/10/2021\n",
      "Junín          Huancayo          17/11/2021\n",
      "La Libertad    Trujillo          3/12/2021\n",
      "Lambayeque     Chiclayo          3/11/2021\n",
      "Lima           Breña             17/01/2022\n",
      "Loreto         Iquitos           15/09/2021\n",
      "Madre de Dios  Puerto Maldonado  15/09/2021\n",
      "Piura          Piura             20/10/2021\n",
      "Puno           Puno              15/09/2021\n",
      "Tacna          Tacna             20/09/2021\n",
      "Tarapoto       San Martín        15/09/2021\n",
      "Tumbes         Tumbes            22/09/2021\n",
      "Ucayali        Pucallpa          20/09/2021\n"
     ]
    }
   ],
   "source": [
    "print(tabulate(arr, headers='keys'))"
   ]
  },
  {
   "cell_type": "code",
   "execution_count": null,
   "metadata": {},
   "outputs": [],
   "source": []
  }
 ],
 "metadata": {
  "kernelspec": {
   "display_name": "Python 3",
   "language": "python",
   "name": "python3"
  },
  "language_info": {
   "codemirror_mode": {
    "name": "ipython",
    "version": 3
   },
   "file_extension": ".py",
   "mimetype": "text/x-python",
   "name": "python",
   "nbconvert_exporter": "python",
   "pygments_lexer": "ipython3",
   "version": "3.7.0"
  }
 },
 "nbformat": 4,
 "nbformat_minor": 2
}
